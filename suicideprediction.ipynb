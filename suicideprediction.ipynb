{
  "cells": [
    {
      "cell_type": "code",
      "execution_count": null,
      "metadata": {
        "colab": {
          "base_uri": "https://localhost:8080/"
        },
        "id": "DScMU7dBGVF7",
        "outputId": "7926cb60-4b18-4de4-dd3e-53ccb70326c2"
      },
      "outputs": [
        {
          "name": "stdout",
          "output_type": "stream",
          "text": [
            "Model Accuracy: 0.91\n",
            "Classification Report:\n",
            "               precision    recall  f1-score   support\n",
            "\n",
            "           0       0.90      0.99      0.94        72\n",
            "           1       0.95      0.71      0.82        28\n",
            "\n",
            "    accuracy                           0.91       100\n",
            "   macro avg       0.93      0.85      0.88       100\n",
            "weighted avg       0.91      0.91      0.91       100\n",
            "\n",
            "\n",
            "--- Answer the following questions on a scale (1 = Never, 5 = Always) ---\n",
            "1. Do you feel hopeless often? (1-5): 1\n",
            "2. Do you have trouble sleeping? (1-5): 1\n",
            "3. Have you lost interest in activities? (1-5): 1\n",
            "4. Do you feel worthless? (1-5): 1\n",
            "5. Do you have trouble concentrating? (1-5): 1\n",
            "6. Do you feel irritable often? (1-5): 2\n",
            "7. Do you avoid social interactions? (1-5): 3\n",
            "8. Have you ever attempted suicide before? (0 = No, 1 = Yes): 0\n",
            "9. Do you have friends or family to talk to? (0 = No, 1 = Yes): 1\n",
            "10. How many times per week do you engage in physical activity? (0-7): 3\n",
            "\n",
            "🧠 Suicide Risk Prediction Result:\n",
            "✅ Low Risk. Stay well, and maintain supportive routines.\n"
          ]
        }
      ],
      "source": [
        "import pandas as pd\n",
        "from sklearn.model_selection import train_test_split\n",
        "from sklearn.ensemble import RandomForestClassifier\n",
        "from sklearn.metrics import accuracy_score, classification_report\n",
        "\n",
        "\n",
        "dataset = pd.read_csv(\"/content/suicide_questionnaire_dataset (1).csv\")\n",
        "\n",
        "\n",
        "X = dataset.drop(\"suicide_risk\", axis=1)\n",
        "y = dataset[\"suicide_risk\"]\n",
        "\n",
        "\n",
        "X_train, X_test, y_train, y_test = train_test_split(X, y, test_size=0.2, random_state=42)\n",
        "\n",
        "\n",
        "model = RandomForestClassifier(n_estimators=100, random_state=42)\n",
        "model.fit(X_train, y_train)\n",
        "\n",
        "\n",
        "y_pred = model.predict(X_test)\n",
        "print(\"Model Accuracy:\", accuracy_score(y_test, y_pred))\n",
        "print(\"Classification Report:\\n\", classification_report(y_test, y_pred))\n",
        "\n",
        "\n",
        "print(\"\\n--- Answer the following questions on a scale (1 = Never, 5 = Always) ---\")\n",
        "try:\n",
        "    user_input = {\n",
        "        \"feeling_hopeless\": int(input(\"1. Do you feel hopeless often? (1-5): \")),\n",
        "        \"trouble_sleeping\": int(input(\"2. Do you have trouble sleeping? (1-5): \")),\n",
        "        \"loss_of_interest\": int(input(\"3. Have you lost interest in activities? (1-5): \")),\n",
        "        \"feeling_worthless\": int(input(\"4. Do you feel worthless? (1-5): \")),\n",
        "        \"difficulty_concentrating\": int(input(\"5. Do you have trouble concentrating? (1-5): \")),\n",
        "        \"irritability\": int(input(\"6. Do you feel irritable often? (1-5): \")),\n",
        "        \"social_withdrawal\": int(input(\"7. Do you avoid social interactions? (1-5): \")),\n",
        "        \"previous_attempts\": int(input(\"8. Have you ever attempted suicide before? (0 = No, 1 = Yes): \")),\n",
        "        \"support_system\": int(input(\"9. Do you have friends or family to talk to? (0 = No, 1 = Yes): \")),\n",
        "        \"physical_activity\": int(input(\"10. How many times per week do you engage in physical activity? (0-7): \"))\n",
        "    }\n",
        "\n",
        "   \n",
        "    input_df = pd.DataFrame([user_input])\n",
        "    prediction = model.predict(input_df)[0]\n",
        "\n",
        "   \n",
        "    print(\"\\n🧠 Suicide Risk Prediction Result:\")\n",
        "    if prediction == 1:\n",
        "        print(\"⚠️ High Risk Detected. Please seek help from a mental health professional.\")\n",
        "    else:\n",
        "        print(\"✅ Low Risk. Stay well, and maintain supportive routines.\")\n",
        "\n",
        "except ValueError:\n",
        "    print(\"Please enter valid numbers for all fields.\")\n"
      ]
    }
  ],
  "metadata": {
    "colab": {
      "provenance": []
    },
    "kernelspec": {
      "display_name": "Python 3",
      "name": "python3"
    },
    "language_info": {
      "name": "python"
    }
  },
  "nbformat": 4,
  "nbformat_minor": 0
}
